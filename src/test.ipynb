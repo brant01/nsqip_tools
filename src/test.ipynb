{
 "cells": [
  {
   "cell_type": "code",
   "execution_count": 13,
   "metadata": {},
   "outputs": [],
   "source": [
    "from pathlib import Path\n",
    "import polars as pl\n",
    "\n",
    "from utils import get_column_names"
   ]
  },
  {
   "cell_type": "code",
   "execution_count": 14,
   "metadata": {},
   "outputs": [],
   "source": [
    "# Use a raw string or forward slashes\n",
    "data_path = Path(r\"../data/all_data.csv\")"
   ]
  },
  {
   "cell_type": "code",
   "execution_count": 16,
   "metadata": {},
   "outputs": [
    {
     "ename": "NameError",
     "evalue": "name 'pl' is not defined",
     "output_type": "error",
     "traceback": [
      "\u001b[1;31m---------------------------------------------------------------------------\u001b[0m",
      "\u001b[1;31mNameError\u001b[0m                                 Traceback (most recent call last)",
      "Cell \u001b[1;32mIn[16], line 1\u001b[0m\n\u001b[1;32m----> 1\u001b[0m col_names \u001b[38;5;241m=\u001b[39m \u001b[43mget_column_names\u001b[49m\u001b[43m(\u001b[49m\u001b[43mdata_path\u001b[49m\u001b[43m)\u001b[49m\n",
      "File \u001b[1;32mc:\\Users\\BrantLab\\python_projects\\nsqip_2\\src\\utils.py:8\u001b[0m, in \u001b[0;36mget_column_names\u001b[1;34m(data_file)\u001b[0m\n\u001b[0;32m      3\u001b[0m \u001b[38;5;28;01mdef\u001b[39;00m \u001b[38;5;21mget_column_names\u001b[39m(data_file: \u001b[38;5;28mstr\u001b[39m) \u001b[38;5;241m-\u001b[39m\u001b[38;5;241m>\u001b[39m \u001b[38;5;28mlist\u001b[39m[\u001b[38;5;28mstr\u001b[39m]:\n\u001b[0;32m      4\u001b[0m \u001b[38;5;250m    \u001b[39m\u001b[38;5;124;03m\"\"\"\u001b[39;00m\n\u001b[0;32m      5\u001b[0m \u001b[38;5;124;03m    Get column names from a file\u001b[39;00m\n\u001b[0;32m      6\u001b[0m \u001b[38;5;124;03m    \"\"\"\u001b[39;00m\n\u001b[0;32m      7\u001b[0m     lazy_df \u001b[38;5;241m=\u001b[39m (\n\u001b[1;32m----> 8\u001b[0m         \u001b[43mpl\u001b[49m\u001b[38;5;241m.\u001b[39mscan_csv(\n\u001b[0;32m      9\u001b[0m             data_file,\n\u001b[0;32m     10\u001b[0m             n_rows\u001b[38;5;241m=\u001b[39m\u001b[38;5;241m0\u001b[39m,\n\u001b[0;32m     11\u001b[0m     )\n\u001b[0;32m     12\u001b[0m     )\n\u001b[0;32m     14\u001b[0m     col_names \u001b[38;5;241m=\u001b[39m lazy_df\u001b[38;5;241m.\u001b[39mcollect_schema()\u001b[38;5;241m.\u001b[39mnames()\n\u001b[0;32m     16\u001b[0m     \u001b[38;5;28;01mreturn\u001b[39;00m col_names\n",
      "\u001b[1;31mNameError\u001b[0m: name 'pl' is not defined"
     ]
    }
   ],
   "source": [
    "col_names = get_column_names(data_path)"
   ]
  },
  {
   "cell_type": "code",
   "execution_count": null,
   "metadata": {},
   "outputs": [],
   "source": [
    "# get columm names\n",
    "col_names = (\n",
    "    pl.\n",
    ")\n",
    "\n",
    "lazy_df.collect_schema().names()"
   ]
  },
  {
   "cell_type": "code",
   "execution_count": null,
   "metadata": {},
   "outputs": [],
   "source": [
    "df = (\n",
    "    pl.scan_csv(\n",
    "        data_path,\n",
    "        infer_schema_length=100_000,\n",
    "    ).select(\n",
    "        pl.col(\"CPT\")\n",
    "    )\n",
    ").fetch(50)"
   ]
  },
  {
   "cell_type": "code",
   "execution_count": 3,
   "metadata": {},
   "outputs": [
    {
     "data": {
      "text/html": [
       "<div><style>\n",
       ".dataframe > thead > tr,\n",
       ".dataframe > tbody > tr {\n",
       "  text-align: right;\n",
       "  white-space: pre-wrap;\n",
       "}\n",
       "</style>\n",
       "<small>shape: (15, 1)</small><table border=\"1\" class=\"dataframe\"><thead><tr><th>CPT</th></tr><tr><td>str</td></tr></thead><tbody><tr><td>&quot;49002&quot;</td></tr><tr><td>&quot;49659&quot;</td></tr><tr><td>&quot;49000&quot;</td></tr><tr><td>&quot;28805&quot;</td></tr><tr><td>&quot;44140&quot;</td></tr><tr><td>&hellip;</td></tr><tr><td>&quot;15630&quot;</td></tr><tr><td>&quot;60500&quot;</td></tr><tr><td>&quot;38724&quot;</td></tr><tr><td>&quot;49650&quot;</td></tr><tr><td>&quot;27880&quot;</td></tr></tbody></table></div>"
      ],
      "text/plain": [
       "shape: (15, 1)\n",
       "┌───────┐\n",
       "│ CPT   │\n",
       "│ ---   │\n",
       "│ str   │\n",
       "╞═══════╡\n",
       "│ 49002 │\n",
       "│ 49659 │\n",
       "│ 49000 │\n",
       "│ 28805 │\n",
       "│ 44140 │\n",
       "│ …     │\n",
       "│ 15630 │\n",
       "│ 60500 │\n",
       "│ 38724 │\n",
       "│ 49650 │\n",
       "│ 27880 │\n",
       "└───────┘"
      ]
     },
     "execution_count": 3,
     "metadata": {},
     "output_type": "execute_result"
    }
   ],
   "source": [
    "df.head(15)"
   ]
  }
 ],
 "metadata": {
  "kernelspec": {
   "display_name": ".venv",
   "language": "python",
   "name": "python3"
  },
  "language_info": {
   "codemirror_mode": {
    "name": "ipython",
    "version": 3
   },
   "file_extension": ".py",
   "mimetype": "text/x-python",
   "name": "python",
   "nbconvert_exporter": "python",
   "pygments_lexer": "ipython3",
   "version": "3.12.5"
  }
 },
 "nbformat": 4,
 "nbformat_minor": 2
}
